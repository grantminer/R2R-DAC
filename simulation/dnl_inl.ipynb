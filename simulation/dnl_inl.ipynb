{
 "cells": [
  {
   "cell_type": "markdown",
   "metadata": {},
   "source": [
    "Based on https://github.com/James-Jagielski/7-bit-D-A-converter-MP4-MADVLSI/blob/main/schematics/simulations/plot_dac_mc.ipynb with permission of repo owners"
   ]
  },
  {
   "cell_type": "code",
   "execution_count": 4,
   "metadata": {},
   "outputs": [],
   "source": [
    "import pandas as pd\n",
    "import matplotlib.pyplot as plt\n",
    "import numpy as np\n",
    "import os\n",
    "from si_prefix import si_format"
   ]
  },
  {
   "cell_type": "code",
   "execution_count": 13,
   "metadata": {},
   "outputs": [],
   "source": [
    "n_bits = 7\n",
    "mc_simulations = []\n",
    "nano = 1e-9\n",
    "results_dir = \"./mc\"\n",
    "ideal_step_size = 3.8e-06/(2**7)"
   ]
  },
  {
   "cell_type": "code",
   "execution_count": 20,
   "metadata": {},
   "outputs": [
    {
     "name": "stdout",
     "output_type": "stream",
     "text": [
      "       net3    net3.1    net3.2    net3.3    net3.4    net3.5    net3.6  \\\n",
      "0  0.192450  0.192450  0.192450  0.192450  0.192450  0.192450  0.192450   \n",
      "1  0.192444  0.192444  0.192444  0.192444  0.192444  0.192444  0.192444   \n",
      "2  0.192443  0.192443  0.192443  0.192443  0.192443  0.192443  0.192443   \n",
      "3  0.192440  0.192440  0.192440  0.192440  0.192440  0.192440  0.192440   \n",
      "4  0.192441  0.192441  0.192441  0.192441  0.192441  0.192441  0.192441   \n",
      "5  0.192437  0.192437  0.192437  0.192437  0.192437  0.192437  0.192437   \n",
      "6  0.192437  0.192437  0.192437  0.192437  0.192437  0.192437  0.192437   \n",
      "7  0.192435  0.192435  0.192435  0.192435  0.192435  0.192435  0.192435   \n",
      "8  0.192437  0.192437  0.192437  0.192437  0.192437  0.192437  0.192437   \n",
      "9  0.192433  0.192433  0.192433  0.192433  0.192433  0.192433  0.192433   \n",
      "\n",
      "     net3.7  i(v_i_in)    net3.8      Iout   code  \n",
      "0  0.192450    0.00001  0.192450  0.000002    0.0  \n",
      "1  0.192444    0.00001  0.192444  0.000002   64.0  \n",
      "2  0.192443    0.00001  0.192443  0.000003   32.0  \n",
      "3  0.192440    0.00001  0.192440  0.000003   96.0  \n",
      "4  0.192441    0.00001  0.192441  0.000003   16.0  \n",
      "5  0.192437    0.00001  0.192437  0.000003   80.0  \n",
      "6  0.192437    0.00001  0.192437  0.000003   48.0  \n",
      "7  0.192435    0.00001  0.192435  0.000003  112.0  \n",
      "8  0.192437    0.00001  0.192437  0.000003    8.0  \n",
      "9  0.192433    0.00001  0.192433  0.000003   72.0  \n",
      "       net3    net3.1    net3.2    net3.3    net3.4    net3.5    net3.6  \\\n",
      "0  0.208527  0.208527  0.208527  0.208527  0.208527  0.208527  0.208527   \n",
      "1  0.208528  0.208528  0.208528  0.208528  0.208528  0.208528  0.208528   \n",
      "2  0.208527  0.208527  0.208527  0.208527  0.208527  0.208527  0.208527   \n",
      "3  0.208526  0.208526  0.208526  0.208526  0.208526  0.208526  0.208526   \n",
      "4  0.208524  0.208524  0.208524  0.208524  0.208524  0.208524  0.208524   \n",
      "5  0.208524  0.208524  0.208524  0.208524  0.208524  0.208524  0.208524   \n",
      "6  0.208523  0.208523  0.208523  0.208523  0.208523  0.208523  0.208523   \n",
      "7  0.208522  0.208522  0.208522  0.208522  0.208522  0.208522  0.208522   \n",
      "8  0.208520  0.208520  0.208520  0.208520  0.208520  0.208520  0.208520   \n",
      "9  0.208520  0.208520  0.208520  0.208520  0.208520  0.208520  0.208520   \n",
      "\n",
      "     net3.7  i(v_i_in)    net3.8          Iout   code  \n",
      "0  0.208527   0.000011  0.208527  1.747808e-07    0.0  \n",
      "1  0.208528   0.000011  0.208528  1.586637e-07   64.0  \n",
      "2  0.208527   0.000011  0.208527  2.016554e-07   32.0  \n",
      "3  0.208526   0.000011  0.208526  2.157301e-07   96.0  \n",
      "4  0.208524   0.000011  0.208524  3.013948e-07   16.0  \n",
      "5  0.208524   0.000011  0.208524  2.985655e-07   80.0  \n",
      "6  0.208523   0.000011  0.208523  3.733164e-07   48.0  \n",
      "7  0.208522   0.000011  0.208522  4.108847e-07  112.0  \n",
      "8  0.208520   0.000011  0.208520  5.370687e-07    8.0  \n",
      "9  0.208520   0.000011  0.208520  5.214173e-07   72.0  \n",
      "[2.96875e-08, 0]\n",
      "max allowable error 1.484375e-08\n",
      "max error 2.9141152549999997e-06\n",
      "variance of error 2.9141152549999997e-06\n"
     ]
    },
    {
     "ename": "KeyError",
     "evalue": "'Iout'",
     "output_type": "error",
     "traceback": [
      "\u001b[0;31m---------------------------------------------------------------------------\u001b[0m",
      "\u001b[0;31mKeyError\u001b[0m                                  Traceback (most recent call last)",
      "File \u001b[0;32m~/.local/lib/python3.10/site-packages/pandas/core/indexes/base.py:3790\u001b[0m, in \u001b[0;36mIndex.get_loc\u001b[0;34m(self, key)\u001b[0m\n\u001b[1;32m   3789\u001b[0m \u001b[38;5;28;01mtry\u001b[39;00m:\n\u001b[0;32m-> 3790\u001b[0m     \u001b[38;5;28;01mreturn\u001b[39;00m \u001b[38;5;28;43mself\u001b[39;49m\u001b[38;5;241;43m.\u001b[39;49m\u001b[43m_engine\u001b[49m\u001b[38;5;241;43m.\u001b[39;49m\u001b[43mget_loc\u001b[49m\u001b[43m(\u001b[49m\u001b[43mcasted_key\u001b[49m\u001b[43m)\u001b[49m\n\u001b[1;32m   3791\u001b[0m \u001b[38;5;28;01mexcept\u001b[39;00m \u001b[38;5;167;01mKeyError\u001b[39;00m \u001b[38;5;28;01mas\u001b[39;00m err:\n",
      "File \u001b[0;32mindex.pyx:152\u001b[0m, in \u001b[0;36mpandas._libs.index.IndexEngine.get_loc\u001b[0;34m()\u001b[0m\n",
      "File \u001b[0;32mindex.pyx:181\u001b[0m, in \u001b[0;36mpandas._libs.index.IndexEngine.get_loc\u001b[0;34m()\u001b[0m\n",
      "File \u001b[0;32mpandas/_libs/hashtable_class_helper.pxi:7080\u001b[0m, in \u001b[0;36mpandas._libs.hashtable.PyObjectHashTable.get_item\u001b[0;34m()\u001b[0m\n",
      "File \u001b[0;32mpandas/_libs/hashtable_class_helper.pxi:7088\u001b[0m, in \u001b[0;36mpandas._libs.hashtable.PyObjectHashTable.get_item\u001b[0;34m()\u001b[0m\n",
      "\u001b[0;31mKeyError\u001b[0m: 'Iout'",
      "\nThe above exception was the direct cause of the following exception:\n",
      "\u001b[0;31mKeyError\u001b[0m                                  Traceback (most recent call last)",
      "Cell \u001b[0;32mIn[20], line 36\u001b[0m\n\u001b[1;32m     32\u001b[0m \u001b[38;5;28;01mfor\u001b[39;00m df_simulation \u001b[38;5;129;01min\u001b[39;00m mc_simulations:\n\u001b[1;32m     33\u001b[0m     \u001b[38;5;28msorted\u001b[39m \u001b[38;5;241m=\u001b[39m df_simulation\u001b[38;5;241m.\u001b[39msort_values(\u001b[38;5;124m\"\u001b[39m\u001b[38;5;124mcode\u001b[39m\u001b[38;5;124m\"\u001b[39m)\n\u001b[1;32m     34\u001b[0m     current \u001b[38;5;241m=\u001b[39m   np\u001b[38;5;241m.\u001b[39msubtract(np\u001b[38;5;241m.\u001b[39mdivide(\n\u001b[1;32m     35\u001b[0m                     np\u001b[38;5;241m.\u001b[39msubtract(\n\u001b[0;32m---> 36\u001b[0m                          \u001b[38;5;28mlist\u001b[39m(\u001b[38;5;28;43msorted\u001b[39;49m\u001b[43m[\u001b[49m\u001b[38;5;124;43m\"\u001b[39;49m\u001b[38;5;124;43mIout\u001b[39;49m\u001b[38;5;124;43m\"\u001b[39;49m\u001b[43m]\u001b[49m)[\u001b[38;5;241m1\u001b[39m:],\u001b[38;5;28mlist\u001b[39m(\u001b[38;5;28msorted\u001b[39m[\u001b[38;5;124m\"\u001b[39m\u001b[38;5;124mIout\u001b[39m\u001b[38;5;124m\"\u001b[39m])[:\u001b[38;5;241m-\u001b[39m\u001b[38;5;241m1\u001b[39m]\n\u001b[1;32m     37\u001b[0m                     ),ideal_step_size),\u001b[38;5;241m1\u001b[39m)\n\u001b[1;32m     38\u001b[0m     \u001b[38;5;66;03m#print(current)\u001b[39;00m\n\u001b[1;32m     39\u001b[0m     cc \u001b[38;5;241m=\u001b[39m \u001b[38;5;28mlist\u001b[39m(current) \u001b[38;5;66;03m#list(np.vstack((current,dnl)).T)\u001b[39;00m\n",
      "File \u001b[0;32m~/.local/lib/python3.10/site-packages/pandas/core/frame.py:3893\u001b[0m, in \u001b[0;36mDataFrame.__getitem__\u001b[0;34m(self, key)\u001b[0m\n\u001b[1;32m   3891\u001b[0m \u001b[38;5;28;01mif\u001b[39;00m \u001b[38;5;28mself\u001b[39m\u001b[38;5;241m.\u001b[39mcolumns\u001b[38;5;241m.\u001b[39mnlevels \u001b[38;5;241m>\u001b[39m \u001b[38;5;241m1\u001b[39m:\n\u001b[1;32m   3892\u001b[0m     \u001b[38;5;28;01mreturn\u001b[39;00m \u001b[38;5;28mself\u001b[39m\u001b[38;5;241m.\u001b[39m_getitem_multilevel(key)\n\u001b[0;32m-> 3893\u001b[0m indexer \u001b[38;5;241m=\u001b[39m \u001b[38;5;28;43mself\u001b[39;49m\u001b[38;5;241;43m.\u001b[39;49m\u001b[43mcolumns\u001b[49m\u001b[38;5;241;43m.\u001b[39;49m\u001b[43mget_loc\u001b[49m\u001b[43m(\u001b[49m\u001b[43mkey\u001b[49m\u001b[43m)\u001b[49m\n\u001b[1;32m   3894\u001b[0m \u001b[38;5;28;01mif\u001b[39;00m is_integer(indexer):\n\u001b[1;32m   3895\u001b[0m     indexer \u001b[38;5;241m=\u001b[39m [indexer]\n",
      "File \u001b[0;32m~/.local/lib/python3.10/site-packages/pandas/core/indexes/base.py:3797\u001b[0m, in \u001b[0;36mIndex.get_loc\u001b[0;34m(self, key)\u001b[0m\n\u001b[1;32m   3792\u001b[0m     \u001b[38;5;28;01mif\u001b[39;00m \u001b[38;5;28misinstance\u001b[39m(casted_key, \u001b[38;5;28mslice\u001b[39m) \u001b[38;5;129;01mor\u001b[39;00m (\n\u001b[1;32m   3793\u001b[0m         \u001b[38;5;28misinstance\u001b[39m(casted_key, abc\u001b[38;5;241m.\u001b[39mIterable)\n\u001b[1;32m   3794\u001b[0m         \u001b[38;5;129;01mand\u001b[39;00m \u001b[38;5;28many\u001b[39m(\u001b[38;5;28misinstance\u001b[39m(x, \u001b[38;5;28mslice\u001b[39m) \u001b[38;5;28;01mfor\u001b[39;00m x \u001b[38;5;129;01min\u001b[39;00m casted_key)\n\u001b[1;32m   3795\u001b[0m     ):\n\u001b[1;32m   3796\u001b[0m         \u001b[38;5;28;01mraise\u001b[39;00m InvalidIndexError(key)\n\u001b[0;32m-> 3797\u001b[0m     \u001b[38;5;28;01mraise\u001b[39;00m \u001b[38;5;167;01mKeyError\u001b[39;00m(key) \u001b[38;5;28;01mfrom\u001b[39;00m \u001b[38;5;21;01merr\u001b[39;00m\n\u001b[1;32m   3798\u001b[0m \u001b[38;5;28;01mexcept\u001b[39;00m \u001b[38;5;167;01mTypeError\u001b[39;00m:\n\u001b[1;32m   3799\u001b[0m     \u001b[38;5;66;03m# If we have a listlike key, _check_indexing_error will raise\u001b[39;00m\n\u001b[1;32m   3800\u001b[0m     \u001b[38;5;66;03m#  InvalidIndexError. Otherwise we fall through and re-raise\u001b[39;00m\n\u001b[1;32m   3801\u001b[0m     \u001b[38;5;66;03m#  the TypeError.\u001b[39;00m\n\u001b[1;32m   3802\u001b[0m     \u001b[38;5;28mself\u001b[39m\u001b[38;5;241m.\u001b[39m_check_indexing_error(key)\n",
      "\u001b[0;31mKeyError\u001b[0m: 'Iout'"
     ]
    },
    {
     "data": {
      "image/png": "[encoded data removed]",
      "text/plain": [
       "<Figure size 1000x600 with 1 Axes>"
      ]
     },
     "metadata": {},
     "output_type": "display_data"
    }
   ],
   "source": [
    "for filename in os.listdir(results_dir):\n",
    "    df = pd.read_csv(os.path.join(results_dir, filename), delimiter = \"\\s+\")\n",
    "    # print(df.head(3))\n",
    "    #print(df)\n",
    "    df[\"code\"] = df[\"v(b0)\"] * 0 # init column to all 0s\n",
    "    for bit in range(n_bits):\n",
    "        # df[\"code\"] = df[\"code\"] + (df[f\"v{bit}\"] > .5*df[\"vdd\"]) * 2 ** (n_bits - bit - 1)\n",
    "        df[\"code\"] = df[\"code\"] + (df[f\"v(b{bit})\"] > .5*1.8) * 2 ** (n_bits - bit - 1)\n",
    "        df.drop(f\"v(b{bit})\", axis = \"columns\", inplace = True)\n",
    "    df.rename({\"i(vi_out)\": \"Iout\"}, axis = \"columns\", inplace = True)\n",
    "    print(df.head(10))\n",
    "\n",
    "    mc_simulations.append(df)\n",
    "tdf = pd.concat(mc_simulations)\n",
    "plt.figure(figsize = (10, 6))\n",
    "plt.xlabel(\"Code\")\n",
    "plt.ylabel(\"Iout\")\n",
    "\n",
    "#z = np.polyfit(tdf[\"code\"], tdf[\"Iout\"], 1)\n",
    "z = [ideal_step_size,0]\n",
    "print(z)\n",
    "p = np.poly1d(z)\n",
    "\n",
    "errors = np.subtract(p(tdf[\"code\"]),tdf[\"Iout\"])\n",
    "\n",
    "print(\"max allowable error\", np.mean( np.subtract( p(range(1,128)) ,p(range(0,127)) ) )/2 )\n",
    "print(\"max error\",np.max(errors))\n",
    "print(\"variance of error\",np.max(errors))\n",
    "\n",
    "dnl  = []\n",
    "dnl_multi = []\n",
    "for df_simulation in mc_simulations:\n",
    "    sorted = df_simulation.sort_values(\"code\")\n",
    "    current =   np.subtract(np.divide(\n",
    "                    np.subtract(\n",
    "                         list(sorted[\"Iout\"])[1:],list(sorted[\"Iout\"])[:-1]\n",
    "                    ),ideal_step_size),1)\n",
    "    #print(current)\n",
    "    cc = list(current) #list(np.vstack((current,dnl)).T)\n",
    "    #print(len(cc))\n",
    "    dnl_multi.append(cc)\n",
    "    for line in cc:\n",
    "        dnl.append(line)#dnl.append(float(max(line,key=abs)))\n",
    "    #print(dnl)\n",
    "\n",
    "inl = np.sum(dnl)\n",
    "\n",
    "\n",
    "\n",
    "# plt.plot(range(128),p(range(128)),\"k--\", label = \"trendline\", linewidth = .5)\n",
    "\n",
    "for i, df_simulation in enumerate(mc_simulations):\n",
    "    # plt.plot(np.array(df_simulation[\"code\"]), np.array(df_simulation[\"Iout\"]), linewidth = 1, label = f\"Run {i}\")\n",
    "    plt.scatter(np.array(df_simulation[\"code\"]), np.array(df_simulation[\"Iout\"]), s = 2, label = f\"Run {i}\")\n",
    "plt.legend(loc = \"lower right\")\n",
    "\n",
    "plt.figure()\n",
    "plt.plot(range(len(dnl)), dnl)\n",
    "plt.title(\"DNL values\")\n",
    "print(\"max overall dnl\",max(dnl,key=abs)) \n",
    "print(\"loc of max value\",dnl.index(max(dnl,key=abs)))\n",
    "print(\"INL\" , inl)\n",
    "plt.ylabel(\"lsbs of error\")"
   ]
  },
  {
   "cell_type": "code",
   "execution_count": null,
   "metadata": {},
   "outputs": [],
   "source": []
  }
 ],
 "metadata": {
  "kernelspec": {
   "display_name": "Python 3 (ipykernel)",
   "language": "python",
   "name": "python3"
  },
  "language_info": {
   "codemirror_mode": {
    "name": "ipython",
    "version": 3
   },
   "file_extension": ".py",
   "mimetype": "text/x-python",
   "name": "python",
   "nbconvert_exporter": "python",
   "pygments_lexer": "ipython3",
   "version": "3.10.12"
  }
 },
 "nbformat": 4,
 "nbformat_minor": 4
}
